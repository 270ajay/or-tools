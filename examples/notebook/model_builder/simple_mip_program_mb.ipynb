{
 "cells": [
  {
   "cell_type": "markdown",
   "id": "google",
   "metadata": {},
   "source": [
    "##### Copyright 2021 Google LLC."
   ]
  },
  {
   "cell_type": "markdown",
   "id": "apache",
   "metadata": {},
   "source": [
    "Licensed under the Apache License, Version 2.0 (the \"License\");\n",
    "you may not use this file except in compliance with the License.\n",
    "You may obtain a copy of the License at\n",
    "\n",
    "    http://www.apache.org/licenses/LICENSE-2.0\n",
    "\n",
    "Unless required by applicable law or agreed to in writing, software\n",
    "distributed under the License is distributed on an \"AS IS\" BASIS,\n",
    "WITHOUT WARRANTIES OR CONDITIONS OF ANY KIND, either express or implied.\n",
    "See the License for the specific language governing permissions and\n",
    "limitations under the License.\n"
   ]
  },
  {
   "cell_type": "markdown",
   "id": "basename",
   "metadata": {},
   "source": [
    "# simple_mip_program_mb"
   ]
  },
  {
   "cell_type": "markdown",
   "id": "link",
   "metadata": {},
   "source": [
    "<table align=\"left\">\n",
    "<td>\n",
    "<a href=\"https://colab.research.google.com/github/google/or-tools/blob/master/examples/notebook/model_builder/simple_mip_program_mb.ipynb\"><img src=\"https://raw.githubusercontent.com/google/or-tools/master/tools/colab_32px.png\"/>Run in Google Colab</a>\n",
    "</td>\n",
    "<td>\n",
    "<a href=\"https://github.com/google/or-tools/blob/master/ortools/model_builder/samples/simple_mip_program_mb.py\"><img src=\"https://raw.githubusercontent.com/google/or-tools/master/tools/github_32px.png\"/>View source on GitHub</a>\n",
    "</td>\n",
    "</table>"
   ]
  },
  {
   "cell_type": "markdown",
   "id": "doc",
   "metadata": {},
   "source": [
    "First, you must install [ortools](https://pypi.org/project/ortools/) package in this colab."
   ]
  },
  {
   "cell_type": "code",
   "execution_count": null,
   "id": "install",
   "metadata": {},
   "outputs": [],
   "source": [
    "!pip install ortools"
   ]
  },
  {
   "cell_type": "code",
   "execution_count": null,
   "id": "code",
   "metadata": {},
   "outputs": [],
   "source": [
    "#!/usr/bin/env python3\n",
    "# Copyright 2010-2021 Google LLC\n",
    "# Licensed under the Apache License, Version 2.0 (the \"License\");\n",
    "# you may not use this file except in compliance with the License.\n",
    "# You may obtain a copy of the License at\n",
    "#\n",
    "#     http://www.apache.org/licenses/LICENSE-2.0\n",
    "#\n",
    "# Unless required by applicable law or agreed to in writing, software\n",
    "# distributed under the License is distributed on an \"AS IS\" BASIS,\n",
    "# WITHOUT WARRANTIES OR CONDITIONS OF ANY KIND, either express or implied.\n",
    "# See the License for the specific language governing permissions and\n",
    "# limitations under the License.\n",
    "# [START program]\n",
    "\"\"\"Integer programming examples that show how to use the APIs.\"\"\"\n",
    "# [START import]\n",
    "import math\n",
    "\n",
    "from ortools.model_builder.python import model_builder\n",
    "# [END import]\n",
    "\n",
    "\n",
    "# [START model]\n",
    "# Create the model.\n",
    "model = model_builder.ModelBuilder()\n",
    "# [END model]\n",
    "\n",
    "# [START variables]\n",
    "# x and y are integer non-negative variables.\n",
    "x = model.new_int_var(0.0, math.inf, 'x')\n",
    "y = model.new_int_var(0.0, math.inf, 'y')\n",
    "\n",
    "print('Number of variables =', model.num_variables)\n",
    "# [END variables]\n",
    "\n",
    "# [START constraints]\n",
    "# x + 7 * y <= 17.5.\n",
    "model.add(x + 7 * y <= 17.5)\n",
    "\n",
    "# x <= 3.5.\n",
    "model.add(x <= 3.5)\n",
    "\n",
    "print('Number of constraints =', model.num_constraints)\n",
    "# [END constraints]\n",
    "\n",
    "# [START objective]\n",
    "# Maximize x + 10 * y.\n",
    "model.maximize(x + 10 * y)\n",
    "# [END objective]\n",
    "\n",
    "# [START solve]\n",
    "# Create the solver with the SCIP backend, and solve the model.\n",
    "solver = model_builder.ModelSolver('scip')\n",
    "status = solver.solve(model)\n",
    "# [END solve]\n",
    "\n",
    "# [START print_solution]\n",
    "if status == model_builder.SolveStatus.OPTIMAL:\n",
    "    print('Solution:')\n",
    "    print('Objective value =', solver.objective_value)\n",
    "    print('x =', solver.value(x))\n",
    "    print('y =', solver.value(y))\n",
    "else:\n",
    "    print('The problem does not have an optimal solution.')\n",
    "# [END print_solution]\n",
    "\n",
    "# [START advanced]\n",
    "print('\\nAdvanced usage:')\n",
    "print('Problem solved in %f seconds' % solver.wall_time)\n",
    "# [END advanced]\n",
    "\n"
   ]
  }
 ],
 "metadata": {},
 "nbformat": 4,
 "nbformat_minor": 5
}
